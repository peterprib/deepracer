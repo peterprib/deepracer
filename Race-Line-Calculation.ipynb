{
 "cells": [
  {
   "cell_type": "markdown",
   "metadata": {},
   "source": [
    "# Racing Line Calculation Worksheet\n",
    "\n",
    "Inspired by the paper [Reinforcement Learning Using Neural Networks, with Applications to Motor Control\n",
    "](https://www.remi-coulom.fr/Publications/Thesis.pdf), which is referenced by a number of machine learning articles, we calculate a race line around a simple race track."
   ]
  },
  {
   "cell_type": "code",
   "execution_count": 1,
   "metadata": {},
   "outputs": [],
   "source": [
    "# !pip3 install numpy\n",
    "# !pip3 install shapely\n",
    "# !pip3 install pandas\n",
    "# !pip3 install matplotlib"
   ]
  },
  {
   "cell_type": "code",
   "execution_count": 8,
   "metadata": {},
   "outputs": [],
   "source": [
    "import glob\n",
    "import math\n",
    "import numpy as np\n",
    "from shapely.geometry import Point, Polygon\n",
    "from shapely.geometry.polygon import LinearRing, LineString\n",
    "import pandas as pd\n",
    "import matplotlib.pyplot as plt\n",
    "import os.path"
   ]
  },
  {
   "cell_type": "code",
   "execution_count": 10,
   "metadata": {},
   "outputs": [],
   "source": [
    "np.set_printoptions(formatter={'float_kind': lambda x: \"{0:0.8f}\".format(x)})\n",
    "\n",
    "def get_distance(coor1, coor2):\n",
    "    return math.sqrt(\n",
    "        (coor1[0] - coor2[0]) * (coor1[0] - coor2[0])\n",
    "        + (coor1[1] - coor2[1]) * (coor1[1] - coor2[1])\n",
    "    )\n",
    "\n",
    "def get_radians(coor1, coor2):\n",
    "    return math.atan2((coor2[1] - coor1[1]), (coor2[0] - coor1[0]))\n",
    "\n",
    "def get_border_waypoints(points1, points2, rate=1.2):\n",
    "    length = min(len(points1), len(points2))\n",
    "    results = []\n",
    "    for i in range(0, length):\n",
    "        dist = get_distance(points1[i], points2[i]) * rate\n",
    "        angle = get_radians(points1[i], points2[i])\n",
    "        results.append(\n",
    "            [\n",
    "                dist * math.cos(angle) + points1[i][0],\n",
    "                dist * math.sin(angle) + points1[i][1],\n",
    "            ]\n",
    "        )\n",
    "    return results"
   ]
  },
  {
   "cell_type": "markdown",
   "metadata": {},
   "source": [
    "## Load the track to analyze"
   ]
  },
  {
   "cell_type": "code",
   "execution_count": 4,
   "metadata": {
    "scrolled": true
   },
   "outputs": [
    {
     "data": {
      "text/plain": [
       "['reInvent2019_track',\n",
       " 'reInvent2019_wide_ccw',\n",
       " 'reInvent2019_wide_ccw1',\n",
       " 'reinvent_base']"
      ]
     },
     "execution_count": 4,
     "metadata": {},
     "output_type": "execute_result"
    }
   ],
   "source": [
    "# Conveniently list available tracks to analyze\n",
    "available_track_files = glob.glob(\"./tracks/**.npy\")\n",
    "available_track_names = list(map(lambda x: os.path.basename(x).split('.npy')[0], available_track_files))\n",
    "sorted(available_track_names)"
   ]
  },
  {
   "cell_type": "code",
   "execution_count": 13,
   "metadata": {
    "tags": []
   },
   "outputs": [
    {
     "ename": "ValueError",
     "evalue": "Input must be >= 1-d.",
     "output_type": "error",
     "traceback": [
      "\u001b[1;31m---------------------------------------------------------------------------\u001b[0m",
      "\u001b[1;31mValueError\u001b[0m                                Traceback (most recent call last)",
      "Cell \u001b[1;32mIn[13], line 43\u001b[0m\n\u001b[0;32m     40\u001b[0m l_inner_border3 \u001b[38;5;241m=\u001b[39m LineString(inner_border3)\n\u001b[0;32m     41\u001b[0m l_outer_border3 \u001b[38;5;241m=\u001b[39m LineString(outer_border3)\n\u001b[1;32m---> 43\u001b[0m road_poly \u001b[38;5;241m=\u001b[39m Polygon(np\u001b[38;5;241m.\u001b[39mvstack((l_outer_border, \u001b[43mnp\u001b[49m\u001b[38;5;241;43m.\u001b[39;49m\u001b[43mflipud\u001b[49m\u001b[43m(\u001b[49m\u001b[43ml_inner_border\u001b[49m\u001b[43m)\u001b[49m)))\n\u001b[0;32m     44\u001b[0m \u001b[38;5;28mprint\u001b[39m(\u001b[38;5;124m\"\u001b[39m\u001b[38;5;124mIs loop/ring? \u001b[39m\u001b[38;5;124m\"\u001b[39m, l_center_line\u001b[38;5;241m.\u001b[39mis_ring)\n\u001b[0;32m     45\u001b[0m road_poly\n",
      "File \u001b[1;32m~\\AppData\\Local\\Packages\\PythonSoftwareFoundation.Python.3.11_qbz5n2kfra8p0\\LocalCache\\local-packages\\Python311\\site-packages\\numpy\\lib\\_twodim_base_impl.py:155\u001b[0m, in \u001b[0;36mflipud\u001b[1;34m(m)\u001b[0m\n\u001b[0;32m    153\u001b[0m m \u001b[38;5;241m=\u001b[39m asanyarray(m)\n\u001b[0;32m    154\u001b[0m \u001b[38;5;28;01mif\u001b[39;00m m\u001b[38;5;241m.\u001b[39mndim \u001b[38;5;241m<\u001b[39m \u001b[38;5;241m1\u001b[39m:\n\u001b[1;32m--> 155\u001b[0m     \u001b[38;5;28;01mraise\u001b[39;00m \u001b[38;5;167;01mValueError\u001b[39;00m(\u001b[38;5;124m\"\u001b[39m\u001b[38;5;124mInput must be >= 1-d.\u001b[39m\u001b[38;5;124m\"\u001b[39m)\n\u001b[0;32m    156\u001b[0m \u001b[38;5;28;01mreturn\u001b[39;00m m[::\u001b[38;5;241m-\u001b[39m\u001b[38;5;241m1\u001b[39m, \u001b[38;5;241m.\u001b[39m\u001b[38;5;241m.\u001b[39m\u001b[38;5;241m.\u001b[39m]\n",
      "\u001b[1;31mValueError\u001b[0m: Input must be >= 1-d."
     ]
    }
   ],
   "source": [
    "# Replace the name here with the track to analyze\n",
    "##TRACK_NAME = 'reInvent2019_wide_ccw'\n",
    "TRACK_NAME = 'reInvent2019_wide_ccw'\n",
    "\n",
    "# Number of times to iterate each new race line point\n",
    "# keep this at 3-8 for best balance of performance and desired result\n",
    "XI_ITERATIONS=5\n",
    "\n",
    "# Number of times to scan the entire race track to iterate\n",
    "# 500 will get a good start, 1500 will be closer to optimal result\n",
    "LINE_ITERATIONS=2000\n",
    "\n",
    "# Load the center, inner, outer waypoints\n",
    "waypointsIn = np.load(\"./tracks/%s.npy\" % TRACK_NAME)\n",
    "\n",
    "####\n",
    "\n",
    "##waypoints=waypointsIn[::-1]\n",
    "waypoints=waypointsIn\n",
    "    \n",
    "\n",
    "# Convert to Shapely objects\n",
    "center_line  = waypoints[:,0:2]\n",
    "inner_border = waypoints[:,2:4]\n",
    "outer_border = waypoints[:,4:6]\n",
    "\n",
    "l_center_line  = LineString(center_line)\n",
    "l_inner_border = LineString(inner_border)\n",
    "l_outer_border = LineString(outer_border)\n",
    "\n",
    "inner_border2 = get_border_waypoints(center_line, inner_border, 0.9)\n",
    "outer_border2 = get_border_waypoints(center_line, outer_border, 0.9)\n",
    "\n",
    "inner_border3 = get_border_waypoints(center_line, inner_border, 0.5)\n",
    "outer_border3 = get_border_waypoints(center_line, outer_border, 0.5)\n",
    "\n",
    "l_inner_border2 = LineString(inner_border2)\n",
    "l_outer_border2 = LineString(outer_border2)\n",
    "\n",
    "l_inner_border3 = LineString(inner_border3)\n",
    "l_outer_border3 = LineString(outer_border3)\n",
    "\n",
    "road_poly = Polygon(np.vstack((l_outer_border, np.flipud(l_inner_border))))\n",
    "print(\"Is loop/ring? \", l_center_line.is_ring)\n",
    "road_poly"
   ]
  },
  {
   "cell_type": "markdown",
   "metadata": {},
   "source": [
    "# Display the original track waypoints"
   ]
  },
  {
   "cell_type": "code",
   "execution_count": 11,
   "metadata": {
    "scrolled": false
   },
   "outputs": [
    {
     "ename": "NameError",
     "evalue": "name 'center_line' is not defined",
     "output_type": "error",
     "traceback": [
      "\u001b[1;31m---------------------------------------------------------------------------\u001b[0m",
      "\u001b[1;31mNameError\u001b[0m                                 Traceback (most recent call last)",
      "Cell \u001b[1;32mIn[11], line 21\u001b[0m\n\u001b[0;32m     19\u001b[0m ax \u001b[38;5;241m=\u001b[39m fig\u001b[38;5;241m.\u001b[39madd_subplot(\u001b[38;5;241m111\u001b[39m, facecolor\u001b[38;5;241m=\u001b[39m\u001b[38;5;124m'\u001b[39m\u001b[38;5;124mblack\u001b[39m\u001b[38;5;124m'\u001b[39m)\n\u001b[0;32m     20\u001b[0m plt\u001b[38;5;241m.\u001b[39maxis(\u001b[38;5;124m'\u001b[39m\u001b[38;5;124mequal\u001b[39m\u001b[38;5;124m'\u001b[39m)\n\u001b[1;32m---> 21\u001b[0m print_border(ax, \u001b[43mcenter_line\u001b[49m, \u001b[38;5;241m3\u001b[39m)\n\u001b[0;32m     22\u001b[0m print_border(ax, inner_border)\n\u001b[0;32m     23\u001b[0m print_border(ax, outer_border)\n",
      "\u001b[1;31mNameError\u001b[0m: name 'center_line' is not defined"
     ]
    },
    {
     "data": {
      "image/png": "[encoded data removed]",
      "text/plain": [
       "<Figure size 1600x1000 with 1 Axes>"
      ]
     },
     "metadata": {},
     "output_type": "display_data"
    }
   ],
   "source": [
    "def plot_coords(ax, ob):\n",
    "    x, y = ob.xy\n",
    "    ax.plot(x, y, '.', color='#999999', zorder=1)\n",
    "\n",
    "def plot_bounds(ax, ob):\n",
    "    x, y = zip(*list((p.x, p.y) for p in ob.boundary))\n",
    "    ax.plot(x, y, '.', color='#000000', zorder=1)\n",
    "\n",
    "def plot_line(ax, ob, width):\n",
    "    x, y = ob.xy\n",
    "    ax.plot(x, y, color='cyan', alpha=0.7, linewidth=width, solid_capstyle='round', zorder=2)\n",
    "\n",
    "def print_border(ax, waypoints, width=2):\n",
    "    line = LineString(waypoints)\n",
    "    plot_coords(ax, line)\n",
    "    plot_line(ax, line, width)\n",
    "\n",
    "fig = plt.figure(1, figsize=(16, 10))\n",
    "ax = fig.add_subplot(111, facecolor='black')\n",
    "plt.axis('equal')\n",
    "print_border(ax, center_line, 3)\n",
    "print_border(ax, inner_border)\n",
    "print_border(ax, outer_border)\n",
    "print_border(ax, inner_border3, 1)\n",
    "print_border(ax, outer_border3, 1)"
   ]
  },
  {
   "cell_type": "code",
   "execution_count": 7,
   "metadata": {},
   "outputs": [],
   "source": [
    "# From https://github.com/e-koch/ewky_scripts/blob/master/curvature.py\n",
    "\n",
    "# The MIT License (MIT)\n",
    "#\n",
    "# Copyright (c) 2014 Eric Koch\n",
    "#\n",
    "# Permission is hereby granted, free of charge, to any person obtaining a copy\n",
    "# of this software and associated documentation files (the \"Software\"), to deal\n",
    "# in the Software without restriction, including without limitation the rights\n",
    "# to use, copy, modify, merge, publish, distribute, sublicense, and/or sell\n",
    "# copies of the Software, and to permit persons to whom the Software is\n",
    "# furnished to do so, subject to the following conditions:\n",
    "\n",
    "# The above copyright notice and this permission notice shall be included in all\n",
    "# copies or substantial portions of the Software.\n",
    "\n",
    "# THE SOFTWARE IS PROVIDED \"AS IS\", WITHOUT WARRANTY OF ANY KIND, EXPRESS OR\n",
    "# IMPLIED, INCLUDING BUT NOT LIMITED TO THE WARRANTIES OF MERCHANTABILITY,\n",
    "# FITNESS FOR A PARTICULAR PURPOSE AND NONINFRINGEMENT. IN NO EVENT SHALL THE\n",
    "# AUTHORS OR COPYRIGHT HOLDERS BE LIABLE FOR ANY CLAIM, DAMAGES OR OTHER\n",
    "# LIABILITY, WHETHER IN AN ACTION OF CONTRACT, TORT OR OTHERWISE, ARISING FROM,\n",
    "# OUT OF OR IN CONNECTION WITH THE SOFTWARE OR THE USE OR OTHER DEALINGS IN THE\n",
    "# SOFTWARE.\n",
    "\n",
    "def menger_curvature(pt1, pt2, pt3, atol=1e-3):\n",
    "    vec21 = np.array([pt1[0]-pt2[0], pt1[1]-pt2[1]])\n",
    "    vec23 = np.array([pt3[0]-pt2[0], pt3[1]-pt2[1]])\n",
    "\n",
    "    norm21 = np.linalg.norm(vec21)\n",
    "    norm23 = np.linalg.norm(vec23)\n",
    "\n",
    "    theta = np.arccos(np.dot(vec21, vec23)/(norm21*norm23))\n",
    "    if np.isclose(theta-np.pi, 0.0, atol=atol):\n",
    "        theta = 0.0\n",
    "\n",
    "    dist13 = np.linalg.norm(vec21-vec23)\n",
    "\n",
    "    return 2 * np.sin(theta) / dist13"
   ]
  },
  {
   "cell_type": "code",
   "execution_count": 10,
   "metadata": {
    "scrolled": true
   },
   "outputs": [],
   "source": [
    "import copy\n",
    "from shapely.geometry import Point, Polygon\n",
    "from shapely.geometry.polygon import LinearRing, LineString\n",
    "\n",
    "# # Number of times to iterate each new race line point\n",
    "# # keep this at 3-8 for best balance of performance and desired result\n",
    "# XI_ITERATIONS=5\n",
    "\n",
    "# # Number of times to scan the entire race track to iterate\n",
    "# # 500 will get a good start, 1500 will be closer to optimal result\n",
    "# LINE_ITERATIONS=300\n",
    "\n",
    "def improve_race_line(old_line, inner_border, outer_border):\n",
    "    '''Use gradient descent, inspired by K1999, to find the racing line'''\n",
    "    # start with the center line\n",
    "    new_line = copy.deepcopy(old_line)\n",
    "    ls_inner_border = Polygon(inner_border)\n",
    "    ls_outer_border = Polygon(outer_border)\n",
    "    for i in range(0,len(new_line)):\n",
    "        xi = new_line[i]\n",
    "        npoints = len(new_line)\n",
    "        prevprev = (i - 2 + npoints) % npoints\n",
    "        prev = (i - 1 + npoints) % npoints\n",
    "        nexxt = (i + 1 + npoints) % npoints\n",
    "        nexxtnexxt = (i + 2 + npoints) % npoints\n",
    "        #print(\"%d: %d %d %d %d %d\" % (npoints, prevprev, prev, i, nexxt, nexxtnexxt))\n",
    "        ci = menger_curvature(new_line[prev], xi, new_line[nexxt])\n",
    "        c1 = menger_curvature(new_line[prevprev], new_line[prev], xi)\n",
    "        c2 = menger_curvature(xi, new_line[nexxt], new_line[nexxtnexxt])\n",
    "        target_ci = (c1 + c2) / 2\n",
    "        #print(\"i %d ci %f target_ci %f c1 %f c2 %f\" % (i, ci, target_ci, c1, c2))\n",
    "\n",
    "        # Calculate prospective new track position, start at half-way (curvature zero)\n",
    "        xi_bound1 = copy.deepcopy(xi)\n",
    "        xi_bound2 = ((new_line[nexxt][0] + new_line[prev][0]) / 2.0, (new_line[nexxt][1] + new_line[prev][1]) / 2.0)\n",
    "        p_xi = copy.deepcopy(xi)\n",
    "        for j in range(0,XI_ITERATIONS):\n",
    "            p_ci = menger_curvature(new_line[prev], p_xi, new_line[nexxt])\n",
    "            #print(\"i: {} iter {} p_ci {} p_xi {} b1 {} b2 {}\".format(i,j,p_ci,p_xi,xi_bound1, xi_bound2))\n",
    "            if np.isclose(p_ci, target_ci):\n",
    "                break\n",
    "            if p_ci < target_ci:\n",
    "                # too flat, shrinking track too much\n",
    "                xi_bound2 = copy.deepcopy(p_xi)\n",
    "                new_p_xi = ((xi_bound1[0] + p_xi[0]) / 2.0, (xi_bound1[1] + p_xi[1]) / 2.0)\n",
    "                if Point(new_p_xi).within(ls_inner_border) or not Point(new_p_xi).within(ls_outer_border):\n",
    "                    xi_bound1 = copy.deepcopy(new_p_xi)\n",
    "                else:\n",
    "                    p_xi = new_p_xi\n",
    "            else:\n",
    "                # too curved, flatten it out\n",
    "                xi_bound1 = copy.deepcopy(p_xi)\n",
    "                new_p_xi = ((xi_bound2[0] + p_xi[0]) / 2.0, (xi_bound2[1] + p_xi[1]) / 2.0)\n",
    "\n",
    "                # If iteration pushes the point beyond the border of the track,\n",
    "                # just abandon the refinement at this point.  As adjacent\n",
    "                # points are adjusted within the track the point should gradually\n",
    "                # make its way to a new position.  A better way would be to use\n",
    "                # a projection of the point on the border as the new bound.  Later.\n",
    "                if Point(new_p_xi).within(ls_inner_border) or not Point(new_p_xi).within(ls_outer_border):\n",
    "                    xi_bound2 = copy.deepcopy(new_p_xi)\n",
    "                else:\n",
    "                    p_xi = new_p_xi\n",
    "        new_xi = p_xi\n",
    "        # New point which has mid-curvature of prev and next points but may be outside of track\n",
    "        #print((new_line[i], new_xi))\n",
    "        new_line[i] = new_xi\n",
    "    return new_line"
   ]
  },
  {
   "cell_type": "markdown",
   "metadata": {},
   "source": [
    "## Calculate the race line!"
   ]
  },
  {
   "cell_type": "code",
   "execution_count": 11,
   "metadata": {
    "tags": []
   },
   "outputs": [
    {
     "name": "stdout",
     "output_type": "stream",
     "text": [
      "57\n",
      "Iteration 0\n",
      "Iteration 20\n",
      "Iteration 40\n",
      "Iteration 60\n",
      "Iteration 80\n",
      "Iteration 100\n",
      "Iteration 120\n",
      "Iteration 140\n",
      "Iteration 160\n",
      "Iteration 180\n",
      "Iteration 200\n",
      "Iteration 220\n",
      "Iteration 240\n",
      "Iteration 260\n",
      "Iteration 280\n",
      "Iteration 300\n",
      "Iteration 320\n",
      "Iteration 340\n",
      "Iteration 360\n",
      "Iteration 380\n",
      "Iteration 400\n",
      "Iteration 420\n",
      "Iteration 440\n",
      "Iteration 460\n",
      "Iteration 480\n",
      "Iteration 500\n",
      "Iteration 520\n",
      "Iteration 540\n",
      "Iteration 560\n",
      "Iteration 580\n",
      "Iteration 600\n",
      "Iteration 620\n",
      "Iteration 640\n",
      "Iteration 660\n",
      "Iteration 680\n",
      "Iteration 700\n",
      "Iteration 720\n",
      "Iteration 740\n",
      "Iteration 760\n",
      "Iteration 780\n",
      "Iteration 800\n",
      "Iteration 820\n",
      "Iteration 840\n",
      "Iteration 860\n",
      "Iteration 880\n",
      "Iteration 900\n",
      "Iteration 920\n",
      "Iteration 940\n",
      "Iteration 960\n",
      "Iteration 980\n",
      "Iteration 1000\n",
      "Iteration 1020\n",
      "Iteration 1040\n",
      "Iteration 1060\n",
      "Iteration 1080\n",
      "Iteration 1100\n",
      "Iteration 1120\n",
      "Iteration 1140\n",
      "Iteration 1160\n",
      "Iteration 1180\n",
      "Iteration 1200\n",
      "Iteration 1220\n",
      "Iteration 1240\n",
      "Iteration 1260\n",
      "Iteration 1280\n",
      "Iteration 1300\n",
      "Iteration 1320\n",
      "Iteration 1340\n",
      "Iteration 1360\n",
      "Iteration 1380\n",
      "Iteration 1400\n",
      "Iteration 1420\n",
      "Iteration 1440\n",
      "Iteration 1460\n",
      "Iteration 1480\n",
      "Iteration 1500\n",
      "Iteration 1520\n",
      "Iteration 1540\n",
      "Iteration 1560\n",
      "Iteration 1580\n",
      "Iteration 1600\n",
      "Iteration 1620\n",
      "Iteration 1640\n",
      "Iteration 1660\n",
      "Iteration 1680\n",
      "Iteration 1700\n",
      "Iteration 1720\n",
      "Iteration 1740\n",
      "Iteration 1760\n",
      "Iteration 1780\n",
      "Iteration 1800\n",
      "Iteration 1820\n",
      "Iteration 1840\n",
      "Iteration 1860\n",
      "Iteration 1880\n",
      "Iteration 1900\n",
      "Iteration 1920\n",
      "Iteration 1940\n",
      "Iteration 1960\n",
      "Iteration 1980\n",
      "56\n"
     ]
    }
   ],
   "source": [
    "print(len(center_line))\n",
    "# start along centerline of track\n",
    "race_line = copy.deepcopy(center_line[:-1])  # Use this for centerline being outer bound\n",
    "for i in range(LINE_ITERATIONS):\n",
    "    # race_line = improve_race_line(race_line, inner_border, outer_border)\n",
    "    race_line = improve_race_line(race_line, inner_border2, outer_border2)\n",
    "    if i % 20 == 0: print(\"Iteration %d\" % i)\n",
    "print(len(race_line))"
   ]
  },
  {
   "cell_type": "code",
   "execution_count": null,
   "metadata": {
    "tags": []
   },
   "outputs": [
    {
     "ename": "NameError",
     "evalue": "name 'np' is not defined",
     "output_type": "error",
     "traceback": [
      "\u001b[1;31m---------------------------------------------------------------------------\u001b[0m",
      "\u001b[1;31mNameError\u001b[0m                                 Traceback (most recent call last)",
      "Cell \u001b[1;32mIn[2], line 2\u001b[0m\n\u001b[0;32m      1\u001b[0m \u001b[38;5;66;03m# need to put duplicate point race_line[0] at race_line[-1] to make a closed loops\u001b[39;00m\n\u001b[1;32m----> 2\u001b[0m loop_race_line \u001b[38;5;241m=\u001b[39m \u001b[43mnp\u001b[49m\u001b[38;5;241m.\u001b[39mappend(race_line, [race_line[\u001b[38;5;241m0\u001b[39m]], axis\u001b[38;5;241m=\u001b[39m\u001b[38;5;241m0\u001b[39m)\n\u001b[0;32m      4\u001b[0m \u001b[38;5;66;03m# These should be the same\u001b[39;00m\n\u001b[0;32m      5\u001b[0m \u001b[38;5;28mprint\u001b[39m(\u001b[38;5;124m\"\u001b[39m\u001b[38;5;124mThese should be the same: \u001b[39m\u001b[38;5;124m\"\u001b[39m, (center_line\u001b[38;5;241m.\u001b[39mshape, loop_race_line\u001b[38;5;241m.\u001b[39mshape))\n",
      "\u001b[1;31mNameError\u001b[0m: name 'np' is not defined"
     ]
    }
   ],
   "source": [
    "# need to put duplicate point race_line[0] at race_line[-1] to make a closed loops\n",
    "loop_race_line = np.append(race_line, [race_line[0]], axis=0)\n",
    "\n",
    "# These should be the same\n",
    "print(\"These should be the same: \", (center_line.shape, loop_race_line.shape))\n",
    "print(\"Original centerline length: %0.2f\" % l_center_line.length)\n",
    "print(\"New race line length: %0.2f\" % LineString(loop_race_line).length)\n",
    "\n",
    "fig = plt.figure(1, figsize=(16, 10))\n",
    "ax = fig.add_subplot(111, facecolor='black')\n",
    "plt.axis('equal')\n",
    "print_border(ax, loop_race_line, 5)\n",
    "print_border(ax, inner_border)\n",
    "print_border(ax, outer_border)\n",
    "# print_border(ax, inner_border3, 1)\n",
    "# print_border(ax, outer_border3, 1)"
   ]
  },
  {
   "cell_type": "markdown",
   "metadata": {},
   "source": [
    "## Save the raceline as:\n",
    "\n",
    "1. Binary numpy array for loading from a file\n",
    "2. Text numpy array for pasting directly into a reward function"
   ]
  },
  {
   "cell_type": "code",
   "execution_count": 13,
   "metadata": {
    "tags": []
   },
   "outputs": [
    {
     "name": "stdout",
     "output_type": "stream",
     "text": [
      "Writing python code to ./racelines/reInvent2019_wide_ccw-5-2000.py\n",
      "Writing python code to ./racelines/reInvent2019_wide_ccw-5-2000-center.py\n",
      "Writing python code to ./racelines/reInvent2019_wide_ccw-5-2000-inner.py\n",
      "Writing python code to ./racelines/reInvent2019_wide_ccw-5-2000-outer.py\n",
      "Writing numpy binary to ./racelines/reInvent2019_wide_ccw-5-2000.npy\n"
     ]
    }
   ],
   "source": [
    "from datetime import datetime\n",
    "\n",
    "now = datetime.now()\n",
    "prefix = './racelines/%s-%d-%d' % (TRACK_NAME, XI_ITERATIONS, LINE_ITERATIONS)\n",
    "\n",
    "py_fname = prefix + '.py'\n",
    "py_center_fname = prefix + '-center.py'\n",
    "py_inner_fname = prefix + '-inner.py'\n",
    "py_outer_fname = prefix + '-outer.py'\n",
    "\n",
    "npy_fname = prefix + '.npy'\n",
    "npy_inner_fname = prefix + '-inner.npy'\n",
    "npy_outer_fname = prefix + '-outer.npy'\n",
    "\n",
    "with open(py_fname, \"w\") as file:\n",
    "    print(\"Writing python code to %s\" % py_fname)\n",
    "    file.write(np.array_repr(loop_race_line))\n",
    "\n",
    "with open(py_center_fname, \"w\") as file:\n",
    "    print(\"Writing python code to %s\" % py_center_fname)\n",
    "    file.write(np.array_repr(center_line))\n",
    "\n",
    "with open(py_inner_fname, \"w\") as file:\n",
    "    print(\"Writing python code to %s\" % py_inner_fname)\n",
    "    file.write(np.array_repr(inner_border))\n",
    "\n",
    "with open(py_outer_fname, \"w\") as file:\n",
    "    print(\"Writing python code to %s\" % py_outer_fname)\n",
    "    file.write(np.array_repr(outer_border))\n",
    "\n",
    "print(\"Writing numpy binary to %s\" % npy_fname)\n",
    "np.save(npy_fname, loop_race_line)\n",
    "\n",
    "np.save(npy_inner_fname, inner_border3)\n",
    "np.save(npy_outer_fname, outer_border3)"
   ]
  },
  {
   "cell_type": "markdown",
   "metadata": {},
   "source": [
    "# Load and visualize a stored track file"
   ]
  },
  {
   "cell_type": "code",
   "execution_count": 12,
   "metadata": {},
   "outputs": [
    {
     "ename": "NameError",
     "evalue": "name 'inner_border' is not defined",
     "output_type": "error",
     "traceback": [
      "\u001b[1;31m---------------------------------------------------------------------------\u001b[0m",
      "\u001b[1;31mNameError\u001b[0m                                 Traceback (most recent call last)",
      "Cell \u001b[1;32mIn[12], line 13\u001b[0m\n\u001b[0;32m     11\u001b[0m plt\u001b[38;5;241m.\u001b[39maxis(\u001b[38;5;124m'\u001b[39m\u001b[38;5;124mequal\u001b[39m\u001b[38;5;124m'\u001b[39m)\n\u001b[0;32m     12\u001b[0m print_border(ax, deserialized, \u001b[38;5;241m5\u001b[39m)\n\u001b[1;32m---> 13\u001b[0m print_border(ax, \u001b[43minner_border\u001b[49m)\n\u001b[0;32m     14\u001b[0m print_border(ax, outer_border)\n\u001b[0;32m     15\u001b[0m print_border(ax, inner_border3, \u001b[38;5;241m1\u001b[39m)\n",
      "\u001b[1;31mNameError\u001b[0m: name 'inner_border' is not defined"
     ]
    },
    {
     "data": {
      "image/png": "[encoded data removed]",
      "text/plain": [
       "<Figure size 1600x1000 with 1 Axes>"
      ]
     },
     "metadata": {},
     "output_type": "display_data"
    }
   ],
   "source": [
    "from numpy import array\n",
    "\n",
    "py_fname = './racelines/reInvent2019_wide_ccw-1000-4-2024-11-09-131651.py'\n",
    "\n",
    "with open(py_fname, \"r\") as file:\n",
    "    deserialized = eval(file.read())\n",
    "deserialized\n",
    "\n",
    "fig = plt.figure(1, figsize=(16, 10))\n",
    "ax = fig.add_subplot(111, facecolor='black')\n",
    "plt.axis('equal')\n",
    "print_border(ax, deserialized, 5)\n",
    "print_border(ax, inner_border)\n",
    "print_border(ax, outer_border)\n",
    "print_border(ax, inner_border3, 1)\n",
    "print_border(ax, outer_border3, 1)"
   ]
  }
 ],
 "metadata": {
  "kernelspec": {
   "display_name": "Python 3",
   "language": "python",
   "name": "python3"
  },
  "language_info": {
   "codemirror_mode": {
    "name": "ipython",
    "version": 3
   },
   "file_extension": ".py",
   "mimetype": "text/x-python",
   "name": "python",
   "nbconvert_exporter": "python",
   "pygments_lexer": "ipython3",
   "version": "3.11.9"
  }
 },
 "nbformat": 4,
 "nbformat_minor": 2
}
